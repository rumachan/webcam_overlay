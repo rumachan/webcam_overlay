{
 "cells": [
  {
   "cell_type": "markdown",
   "metadata": {},
   "source": [
    "# Adding an overlay to a webcam image\n",
    "\n",
    "A series of overlays, containing annotations for webcam images, have been created. These consists of lines and labels on a transparent background. They are stored as a JPEG file.\n",
    "\n",
    "Purpose: To permit adding an overlay to any webcam image of your choice.\n",
    "\n",
    "Use case: A GHA finds something interesting on a webcam image and wants to describe/show it to a VDO. They select the image, then the overlay nearest in time, and add the overlay onto the image. The overlayed image can be shown to a VDO, or a GHA can use the annotations to better describe where in an image the interesting thing can be seen."
   ]
  },
  {
   "cell_type": "code",
   "execution_count": 29,
   "metadata": {},
   "outputs": [],
   "source": [
    "import cv2\n",
    "from PIL import Image\n",
    "\n",
    "from tkinter import filedialog\n",
    "\n",
    "from ftplib import FTP\n",
    "\n",
    "import os"
   ]
  },
  {
   "cell_type": "markdown",
   "metadata": {},
   "source": [
    "## fixed stuff"
   ]
  },
  {
   "cell_type": "code",
   "execution_count": 30,
   "metadata": {},
   "outputs": [],
   "source": [
    "ovrdir = '/home/sherburn/JupyterNotebooks/image_overlay_testing/annotated_images' #directory for completed overlays\n",
    "ovrsuf = 'annotated' #suffix for completed overlay files"
   ]
  },
  {
   "cell_type": "markdown",
   "metadata": {},
   "source": [
    "## mount ftp containing webcams"
   ]
  },
  {
   "cell_type": "code",
   "execution_count": 31,
   "metadata": {},
   "outputs": [],
   "source": [
    "%%bash\n",
    "curlftpfs ftp.geonet.org.nz/volcano_cams webcams"
   ]
  },
  {
   "cell_type": "markdown",
   "metadata": {},
   "source": [
    "## open dialog, select and read webcam image"
   ]
  },
  {
   "cell_type": "code",
   "execution_count": 32,
   "metadata": {},
   "outputs": [],
   "source": [
    "webimg = filedialog.askopenfilename()"
   ]
  },
  {
   "cell_type": "code",
   "execution_count": 33,
   "metadata": {},
   "outputs": [],
   "source": [
    "image = cv2.imread(webimg)"
   ]
  },
  {
   "cell_type": "markdown",
   "metadata": {},
   "source": [
    "## open dialog, select and read webcam overlay"
   ]
  },
  {
   "cell_type": "code",
   "execution_count": 34,
   "metadata": {},
   "outputs": [],
   "source": [
    "webovr = filedialog.askopenfilename()"
   ]
  },
  {
   "cell_type": "code",
   "execution_count": 35,
   "metadata": {},
   "outputs": [],
   "source": [
    "overlay = cv2.imread(webovr)"
   ]
  },
  {
   "cell_type": "markdown",
   "metadata": {},
   "source": [
    "## close mounted ftp"
   ]
  },
  {
   "cell_type": "code",
   "execution_count": 36,
   "metadata": {},
   "outputs": [],
   "source": [
    "%%bash\n",
    "fusermount -u webcams"
   ]
  },
  {
   "cell_type": "markdown",
   "metadata": {},
   "source": [
    "## add overlay to image, and save"
   ]
  },
  {
   "cell_type": "code",
   "execution_count": 37,
   "metadata": {},
   "outputs": [],
   "source": [
    "combined = cv2.addWeighted(image,1.0,overlay,1.0,0)"
   ]
  },
  {
   "cell_type": "code",
   "execution_count": 38,
   "metadata": {},
   "outputs": [],
   "source": [
    "base = os.path.splitext(os.path.basename(webimg))[0]\n",
    "annotated = os.path.join(ovrdir, base+'_'+ovrsuf+'.jpg')"
   ]
  },
  {
   "cell_type": "code",
   "execution_count": 39,
   "metadata": {},
   "outputs": [
    {
     "data": {
      "text/plain": [
       "True"
      ]
     },
     "execution_count": 39,
     "metadata": {},
     "output_type": "execute_result"
    }
   ],
   "source": [
    "cv2.imwrite(annotated, combined)"
   ]
  },
  {
   "cell_type": "markdown",
   "metadata": {},
   "source": [
    "## open then display the annotated image"
   ]
  },
  {
   "cell_type": "code",
   "execution_count": 40,
   "metadata": {},
   "outputs": [],
   "source": [
    "# combined = Image.open(annotated)\n",
    "\n",
    "# combined.show()"
   ]
  }
 ],
 "metadata": {
  "kernelspec": {
   "display_name": "Python 3",
   "language": "python",
   "name": "python3"
  },
  "language_info": {
   "codemirror_mode": {
    "name": "ipython",
    "version": 3
   },
   "file_extension": ".py",
   "mimetype": "text/x-python",
   "name": "python",
   "nbconvert_exporter": "python",
   "pygments_lexer": "ipython3",
   "version": "3.7.3"
  }
 },
 "nbformat": 4,
 "nbformat_minor": 4
}
